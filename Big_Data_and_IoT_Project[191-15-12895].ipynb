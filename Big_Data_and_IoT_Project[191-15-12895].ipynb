{
  "nbformat": 4,
  "nbformat_minor": 0,
  "metadata": {
    "colab": {
      "name": "Big_Data_and_IoT_Project.ipynb",
      "provenance": [],
      "collapsed_sections": []
    },
    "kernelspec": {
      "name": "python3",
      "display_name": "Python 3"
    },
    "language_info": {
      "name": "python"
    }
  },
  "cells": [
    {
      "cell_type": "markdown",
      "source": [
        "Initialization for Google Colab"
      ],
      "metadata": {
        "id": "8Wsx9ZNxlOBF"
      }
    },
    {
      "cell_type": "code",
      "execution_count": 22,
      "metadata": {
        "id": "UoJAJnlb-3Yn"
      },
      "outputs": [],
      "source": [
        "!apt-get install openjdk-8-jdk-headless -qq > /dev/null\n",
        "!wget -q https://dlcdn.apache.org/spark/spark-3.2.1/spark-3.2.1-bin-hadoop3.2.tgz\n",
        "!tar xf spark-3.2.1-bin-hadoop3.2.tgz\n",
        "!pip install -q findspark\n",
        "!pip install -q pyspark\n",
        "import os\n",
        "import pyspark\n",
        "import findspark\n",
        "import numpy as np\n",
        "import pandas as pd\n",
        "from datetime import date,timedelta,datetime\n",
        "from pyspark.sql import functions as F\n",
        "from pyspark.sql import SparkSession\n",
        "from google.colab import drive\n",
        "from pyspark.sql.types import *\n",
        "from pyspark.sql.window import Window\n",
        "os.environ[\"JAVA_HOME\"] = \"/usr/lib/jvm/java-8-openjdk-amd64\"\n",
        "os.environ[\"SPARK_HOME\"] = \"/content/spark-3.2.1-bin-hadoop3.2\"\n",
        "findspark.init()\n",
        "findspark.find()\n",
        "spark = SparkSession.builder\\\n",
        "        .master(\"local\")\\\n",
        "        .appName(\"Colab\")\\\n",
        "        .config('spark.ui.port', '4050')\\\n",
        "        .getOrCreate()"
      ]
    },
    {
      "cell_type": "markdown",
      "source": [
        "Mounting Google Drive"
      ],
      "metadata": {
        "id": "aBqOZpz_lUWb"
      }
    },
    {
      "cell_type": "code",
      "source": [
        "drive.mount('/content/gdrive/',force_remount=True)\n",
        "root_path=\"/content/gdrive/MyDrive/Project/Big_Data_and_IoT_project/\""
      ],
      "metadata": {
        "id": "yTi64D1W-4n2",
        "colab": {
          "base_uri": "https://localhost:8080/"
        },
        "outputId": "208c2b67-bc1b-4a7a-c961-f0f603a1a7b9"
      },
      "execution_count": 23,
      "outputs": [
        {
          "output_type": "stream",
          "name": "stdout",
          "text": [
            "Mounted at /content/gdrive/\n"
          ]
        }
      ]
    },
    {
      "cell_type": "markdown",
      "source": [
        "Reading the provided .csv file"
      ],
      "metadata": {
        "id": "yXyjHmspl3By"
      }
    },
    {
      "cell_type": "code",
      "source": [
        "dataset=spark.read.load(root_path+\"dataset.csv\",format=\"csv\",sep=\",\",inferScheme=True,header=True)\n",
        "dataset.show()"
      ],
      "metadata": {
        "id": "5ZJne4tYCDic",
        "colab": {
          "base_uri": "https://localhost:8080/"
        },
        "outputId": "b2df1e78-d6fd-4270-d607-db43770bb14f"
      },
      "execution_count": 24,
      "outputs": [
        {
          "output_type": "stream",
          "name": "stdout",
          "text": [
            "+------+-------+----------------+--------------------+----------+\n",
            "|SL No.| Emp ID|RFID Card Number|       Employee Name|   Contact|\n",
            "+------+-------+----------------+--------------------+----------+\n",
            "|     1|4000001|         4000001|        Shakil Ahmed|1812345678|\n",
            "|     2|4000002|         4000002|        Shatabdi Roy|1812345678|\n",
            "|     3|4000003|         4000003|    Md. Pieash Ahmed|         0|\n",
            "|     4|4000004|         4000004|        Fahima Islam|1812345678|\n",
            "|     5|4000005|         4000005|  Tanjina Akter Jame|1812345678|\n",
            "|     6|4000006|         4000006|    Afrin Jahan Urme|1812345678|\n",
            "|     7|4000007|         4000007|      Anika Tabassum|1812345678|\n",
            "|     8|4000008|         4000008|     Afsana Alam Mim|1812345678|\n",
            "|     9|4000009|         4000009| Sayma Islam Sochona|1812345678|\n",
            "|    10|4000010|         4000010|A. K. M. Tasnim Alam|1812345678|\n",
            "|    11|4000011|         4000011|   Md Regone Hossain|1812345678|\n",
            "|    12|4000012|         4000012| Silvia Kh. Shuvessa|1812345678|\n",
            "|    13|4000013|         4000013|      Yeasin Bhuiyan|1812345678|\n",
            "|    14|4000014|         4000014|   Md. Mehedi Hassan|1812345678|\n",
            "|    15|4000015|         4000015|       Riyad Hossain|1812345678|\n",
            "|    16|4000016|         4000016|Md. Saiful Islam ...|1812345678|\n",
            "|    17|4000017|         4000017|Abdullah Mohammod...|1812345678|\n",
            "|    18|4000018|         4000018|             Al Amin|1812345678|\n",
            "|    19|4000019|         4000019|   Zahid Hasan Nirob|1812345678|\n",
            "|    20|4000020|         4000020|      Sharzan Rahman|1812345678|\n",
            "+------+-------+----------------+--------------------+----------+\n",
            "only showing top 20 rows\n",
            "\n"
          ]
        }
      ]
    },
    {
      "cell_type": "markdown",
      "source": [
        "Checking the provided data"
      ],
      "metadata": {
        "id": "WjRDB-b8GIXy"
      }
    },
    {
      "cell_type": "code",
      "source": [
        "dataset.summary().show()"
      ],
      "metadata": {
        "id": "4SkJauCvEf1O",
        "colab": {
          "base_uri": "https://localhost:8080/"
        },
        "outputId": "e9a46e8e-d89e-4267-d204-fd5b186f6214"
      },
      "execution_count": 25,
      "outputs": [
        {
          "output_type": "stream",
          "name": "stdout",
          "text": [
            "+-------+-----------------+-----------------+-----------------+--------------------+-------------------+\n",
            "|summary|           SL No.|           Emp ID| RFID Card Number|       Employee Name|            Contact|\n",
            "+-------+-----------------+-----------------+-----------------+--------------------+-------------------+\n",
            "|  count|              998|              998|              998|                 998|                998|\n",
            "|   mean|            499.5|        4000499.5|        4000499.5|                null|1.792369924034068E9|\n",
            "| stddev|288.2420857543187|288.2420857543187|288.2420857543187|                null|1.893141629516554E8|\n",
            "|    min|                1|          4000001|          4000001|A. K. M. Tasnim Alam|                  0|\n",
            "|    25%|            250.0|        4000250.0|        4000250.0|                null|      1.812345678E9|\n",
            "|    50%|            499.0|        4000499.0|        4000499.0|                null|      1.812345678E9|\n",
            "|    75%|            749.0|        4000749.0|        4000749.0|                null|      1.812345678E9|\n",
            "|    max|              998|          4000998|          4000998|   Zahid Hasan Nirob|         1812345678|\n",
            "+-------+-----------------+-----------------+-----------------+--------------------+-------------------+\n",
            "\n"
          ]
        }
      ]
    },
    {
      "cell_type": "markdown",
      "source": [
        "Renaming the columns for further access"
      ],
      "metadata": {
        "id": "QL3OZt-Wl8bZ"
      }
    },
    {
      "cell_type": "code",
      "source": [
        "for i in dataset.schema.names:\n",
        "    S=i.replace(' ','_')\n",
        "    S=S.replace('.','_')\n",
        "    dataset=dataset.withColumnRenamed(i,S)\n",
        "dataset=dataset.na.drop()"
      ],
      "metadata": {
        "id": "aHeAhUzJUZXI"
      },
      "execution_count": 26,
      "outputs": []
    },
    {
      "cell_type": "markdown",
      "source": [
        "Checking existing schema"
      ],
      "metadata": {
        "id": "kma2aJL0o96J"
      }
    },
    {
      "cell_type": "code",
      "source": [
        "for i in dataset.schema:\n",
        "    print(i)\n",
        "print()\n",
        "dataset.printSchema()\n"
      ],
      "metadata": {
        "id": "JhP7wVohHHT6",
        "colab": {
          "base_uri": "https://localhost:8080/"
        },
        "outputId": "9d6f7fc5-f997-4165-932b-ef07316dc58e"
      },
      "execution_count": 27,
      "outputs": [
        {
          "output_type": "stream",
          "name": "stdout",
          "text": [
            "StructField(SL_No_,StringType,true)\n",
            "StructField(Emp_ID,StringType,true)\n",
            "StructField(RFID_Card_Number,StringType,true)\n",
            "StructField(Employee_Name,StringType,true)\n",
            "StructField(Contact,StringType,true)\n",
            "\n",
            "root\n",
            " |-- SL_No_: string (nullable = true)\n",
            " |-- Emp_ID: string (nullable = true)\n",
            " |-- RFID_Card_Number: string (nullable = true)\n",
            " |-- Employee_Name: string (nullable = true)\n",
            " |-- Contact: string (nullable = true)\n",
            "\n"
          ]
        }
      ]
    },
    {
      "cell_type": "markdown",
      "source": [
        "Additional imports for data processing"
      ],
      "metadata": {
        "id": "tHGFotavlXzW"
      }
    },
    {
      "cell_type": "code",
      "source": [
        "!pip install -q random-address\n",
        "import string\n",
        "import random\n",
        "import random_address\n",
        "import math\n",
        "from pyspark.sql import SQLContext\n",
        "from pyspark.sql.functions import *\n",
        "from pyspark.sql.types import *\n",
        "from random import randrange\n",
        "from datetime import timedelta\n",
        "from datetime import datetime"
      ],
      "metadata": {
        "id": "_CdvxbTilqJr"
      },
      "execution_count": 28,
      "outputs": []
    },
    {
      "cell_type": "markdown",
      "source": [
        "Helper methods for generating certain data"
      ],
      "metadata": {
        "id": "neOdSfrlllRT"
      }
    },
    {
      "cell_type": "code",
      "source": [
        "def getRandomAddress():\n",
        "    ret=random_address.real_random_address()\n",
        "    S=\"\"\n",
        "    T=\"\"\n",
        "    f=0\n",
        "    for i in ret.values():\n",
        "        try:\n",
        "            T+=i\n",
        "            if len(i)>0:\n",
        "                if f==1:\n",
        "                    S+=\", \"\n",
        "                else:\n",
        "                    f=1\n",
        "                S+=str(i)\n",
        "        except:\n",
        "            break\n",
        "    return S\n",
        "\n",
        "def getRandomLatitude():\n",
        "    ret=random_address.real_random_address_by_state('CT')\n",
        "    return ret['coordinates']['lat']\n",
        "\n",
        "def getRandomLongitude():\n",
        "    ret=random_address.real_random_address_by_state('CT')\n",
        "    return ret['coordinates']['lng']\n",
        "\n",
        "def random_date(start,end):\n",
        "    delta=end-start\n",
        "    int_delta=(delta.days*24*60*60)+delta.seconds\n",
        "    random_second=randrange(int_delta)\n",
        "    return start+timedelta(seconds=random_second)\n",
        "\n",
        "def DoB():\n",
        "    d1 = datetime.strptime('12/16/1971 12:00 AM', '%m/%d/%Y %I:%M %p')\n",
        "    d2 = datetime.strptime('12/31/1990 11:59 PM', '%m/%d/%Y %I:%M %p')\n",
        "    return random_date(d1,d2)\n",
        "\n",
        "def DoC():\n",
        "    d1 = datetime.strptime('12/16/2020 12:00 AM', '%m/%d/%Y %I:%M %p')\n",
        "    d2 = datetime.strptime('12/31/2021 11:59 PM', '%m/%d/%Y %I:%M %p')\n",
        "    return random_date(d1,d2)\n",
        "\n",
        "def DoU(s):\n",
        "    t=s.split('-')\n",
        "    s=t[1]+'/'+t[2]+'/'+t[0]\n",
        "    d1 = datetime.strptime(s+' 12:00 AM', '%m/%d/%Y %I:%M %p')\n",
        "    d2 = datetime.strptime('04/09/2022 11:59 PM', '%m/%d/%Y %I:%M %p')\n",
        "    return random_date(d1,d2)\n",
        "\n",
        "def DoV(s):\n",
        "    t=s.split('-')\n",
        "    s=t[1]+'/'+t[2]+'/'+t[0][:-1]+'4'\n",
        "    d1 = datetime.strptime(s+' 12:00 AM', '%m/%d/%Y %I:%M %p')\n",
        "    d2 = datetime.strptime('04/09/2026 11:59 PM', '%m/%d/%Y %I:%M %p')\n",
        "    return random_date(d1,d2)\n",
        "\n",
        "def DoL(s):\n",
        "    t=s.split('-')\n",
        "    s=t[1]+'/'+t[2]+'/'+t[0]\n",
        "    d1 = datetime.strptime(s+' 12:00 AM', '%m/%d/%Y %I:%M %p')\n",
        "    d2 = datetime.strptime('04/09/2022 11:59 PM', '%m/%d/%Y %I:%M %p')\n",
        "    return random_date(d1,d2)\n",
        "\n",
        "def getActTemp(st):\n",
        "    if int(st)>2024:\n",
        "        return '1'\n",
        "    else:\n",
        "        return '0'"
      ],
      "metadata": {
        "id": "auYG80tf5sCa"
      },
      "execution_count": 29,
      "outputs": []
    },
    {
      "cell_type": "markdown",
      "source": [
        "Lambda functions for generating data"
      ],
      "metadata": {
        "id": "3xKfZAyVlrM_"
      }
    },
    {
      "cell_type": "code",
      "source": [
        "genUserID=udf(lambda :''.join(random.choices(string.ascii_uppercase+string.digits,k=12)),StringType())\n",
        "genDGID=udf(lambda :random.randint(1,50),IntegerType())\n",
        "genLimit=udf(lambda :random.randint(10,25),IntegerType())\n",
        "genDue=udf(lambda :random.uniform(100.0,2500.0),DoubleType())\n",
        "genTag=udf(lambda :''.join(random.choices(string.digits,k=6)),StringType())\n",
        "genRefN=udf(lambda :''.join(random.choices(string.digits,k=random.randint(1,8))),StringType())\n",
        "genQty=udf(lambda :random.randint(123,1234),IntegerType())\n",
        "genPTID=udf(lambda :random.randint(1,25),IntegerType())\n",
        "genFirstName=udf(lambda x:' '.join(x.split()[0:-1]),StringType())\n",
        "genLastName=udf(lambda x:x.split()[-1],StringType())\n",
        "genAdd=udf(lambda :getRandomAddress(),StringType())\n",
        "genLat=udf(lambda :getRandomLatitude(),DoubleType())\n",
        "genLon=udf(lambda :getRandomLongitude(),DoubleType())\n",
        "genCity=udf(lambda x:x.split()[1],StringType())\n",
        "genPostCode=udf(lambda x:x.split()[3],StringType())\n",
        "genCountry=udf(lambda x:x.split()[2],StringType())\n",
        "genDoB=udf(lambda :str(DoB()).split()[0],StringType())\n",
        "genDoC=udf(lambda :str(DoC()).split()[0],StringType())\n",
        "genDoU=udf(lambda x:str(DoU(x)).split()[0],StringType())\n",
        "genDoV=udf(lambda x:str(DoV(x)).split()[0],StringType())\n",
        "genDoL=udf(lambda x:str(DoL(x)).split()[0],StringType())\n",
        "genTF=udf(lambda :''.join(random.choices(['t','f'],k=1)),StringType())\n",
        "genActiv=udf(lambda :''.join(random.choices(['0','1'],k=1)),StringType())\n",
        "genActiTemp=udf(lambda x:getActTemp(x.split('-')[0]),StringType())\n",
        "tint=udf(lambda x:int(x),IntegerType())"
      ],
      "metadata": {
        "id": "483e610Ulzx6"
      },
      "execution_count": 30,
      "outputs": []
    },
    {
      "cell_type": "markdown",
      "source": [
        "Generating extra data and adding to the provided data"
      ],
      "metadata": {
        "id": "AJ29_EwzmmBz"
      }
    },
    {
      "cell_type": "code",
      "source": [
        "dataset=dataset.withColumnRenamed(\"Contact\",\"contact\")\n",
        "dataset=dataset.withColumn(\"contact_number\",dataset.contact)\n",
        "dataset=dataset.withColumn(\"user_id\",genUserID())\n",
        "dataset=dataset.withColumn(\"first_name\",genFirstName(dataset.Employee_Name))\n",
        "dataset=dataset.withColumn(\"last_name\",genLastName(dataset.Employee_Name))\n",
        "dataset=dataset.withColumn(\"date_of_birth\",genDoB())\n",
        "dataset=dataset.withColumn(\"lat\",genLat())\n",
        "dataset=dataset.withColumn(\"lon\",genLon())\n",
        "dataset=dataset.withColumn(\"is_otp_verified\",genTF())\n",
        "dataset=dataset.withColumn(\"discount_group_id\",genDGID())\n",
        "dataset=dataset.withColumn(\"address\",genAdd())\n",
        "dataset=dataset.withColumn(\"city\",genCity(dataset.address))\n",
        "dataset=dataset.withColumn(\"postcode\",genPostCode(dataset.address))\n",
        "dataset=dataset.withColumn(\"country\",genCountry(dataset.address))\n",
        "dataset=dataset.withColumn(\"currency\",lit(\"USD\"))\n",
        "dataset=dataset.withColumn(\"tag\",genTag())\n",
        "dataset=dataset.withColumn(\"created_date\",genDoC())\n",
        "dataset=dataset.withColumn(\"updated_date\",genDoU(dataset.created_date))\n",
        "dataset=dataset.withColumn(\"valid_until\",genDoV(dataset.created_date))\n",
        "dataset=dataset.withColumn(\"activated\",genActiTemp(dataset.valid_until))\n",
        "dataset=dataset.withColumn(\"last_used\",genDoL(dataset.updated_date))\n",
        "dataset=dataset.withColumn(\"expire_date\",dataset.valid_until)\n",
        "dataset=dataset.withColumn(\"reference_number\",genRefN())\n",
        "dataset=dataset.withColumn(\"employee_code\",tint(dataset.Emp_ID))\n",
        "dataset=dataset.withColumn(\"unique_user_id\",tint(dataset.SL_No_))\n",
        "dataset=dataset.withColumn(\"id\",tint(dataset.SL_No_))\n",
        "dataset=dataset.withColumn(\"quantity\",genQty())\n",
        "dataset=dataset.withColumn(\"product_type_id\",lit(int(input(\"Enter Product Type ID : \"))))\n",
        "dataset=dataset.withColumn(\"rfid_id\",dataset.RFID_Card_Number)\n",
        "dataset=dataset.withColumn(\"credit_type\",lit(\"NORMAL\"))\n",
        "dataset=dataset.withColumn(\"per_day\",genLimit())\n",
        "dataset=dataset.withColumn(\"per_week\",dataset.per_day*7)\n",
        "dataset=dataset.withColumn(\"per_month\",dataset.per_day*30)\n",
        "dataset=dataset.withColumn(\"inventory_type_id\",lit(int(input(\"Enter Inventory Type ID : \"))))\n",
        "dataset=dataset.withColumn(\"fixed_credit_limit\",lit(50))\n",
        "dataset=dataset.withColumn(\"credit_limit\",lit(30))\n",
        "dataset=dataset.withColumn(\"due_amount\",genDue())\n",
        "dataset=dataset.withColumn(\"agent_name_id\",lit(int(input(\"Enter Agent Name ID : \"))))\n",
        "dataset.show()\n",
        "dataset.printSchema()"
      ],
      "metadata": {
        "id": "VTVcDPUbpDB-",
        "colab": {
          "base_uri": "https://localhost:8080/"
        },
        "outputId": "f0ca5e1f-7a1b-47da-d806-8820456012aa"
      },
      "execution_count": 31,
      "outputs": [
        {
          "output_type": "stream",
          "name": "stdout",
          "text": [
            "Enter Product Type ID : 8\n",
            "Enter Inventory Type ID : 9\n",
            "Enter Agent Name ID : 5\n",
            "+------+-------+----------------+--------------------+----------+--------------+------------+--------------------+---------+-------------+-----------------+------------------+---------------+-----------------+--------------------+---------+-----------+-------+--------+------+------------+------------+-----------+---------+----------+-----------+----------------+-------------+--------------+---+--------+---------------+-------+-----------+-------+--------+---------+-----------------+------------------+------------+------------------+-------------+\n",
            "|SL_No_| Emp_ID|RFID_Card_Number|       Employee_Name|   contact|contact_number|     user_id|          first_name|last_name|date_of_birth|              lat|               lon|is_otp_verified|discount_group_id|             address|     city|   postcode|country|currency|   tag|created_date|updated_date|valid_until|activated| last_used|expire_date|reference_number|employee_code|unique_user_id| id|quantity|product_type_id|rfid_id|credit_type|per_day|per_week|per_month|inventory_type_id|fixed_credit_limit|credit_limit|        due_amount|agent_name_id|\n",
            "+------+-------+----------------+--------------------+----------+--------------+------------+--------------------+---------+-------------+-----------------+------------------+---------------+-----------------+--------------------+---------+-----------+-------+--------+------+------------+------------+-----------+---------+----------+-----------+----------------+-------------+--------------+---+--------+---------------+-------+-----------+-------+--------+---------+-----------------+------------------+------------+------------------+-------------+\n",
            "|     1|4000001|         4000001|        Shakil Ahmed|1812345678|    1812345678|DYOYERQQMGL9|              Shakil|    Ahmed|   1979-01-25|        41.738226|-72.57570439999999|              f|               42|1630 Eton Way, Cr...|     Mark|   Terrace,| Street|     USD|312936|  2021-07-29|  2022-03-11| 2025-10-23|        1|2022-04-08| 2025-10-23|        78413559|      4000001|             1|  1|     534|              8|4000001|     NORMAL|     20|     140|      600|                9|                50|          30|2041.0728895049024|            5|\n",
            "|     2|4000002|         4000002|        Shatabdi Roy|1812345678|    1812345678|G2AAK0XAGAF0|            Shatabdi|      Roy|   1990-11-23|        41.782849|       -72.5306932|              f|               23|445 South Potomac...| Vineyard| Southwest,|   53rd|     USD|100383|  2021-03-07|  2021-08-16| 2024-08-16|        0|2021-11-05| 2024-08-16|         9931521|      4000002|             2|  2|     497|              8|4000002|     NORMAL|     24|     168|      720|                9|                50|          30|  705.523763314614|            5|\n",
            "|     3|4000003|         4000003|    Md. Pieash Ahmed|         0|             0|940LBUPWR5M4|          Md. Pieash|    Ahmed|   1983-06-30|        41.801434|-72.50770960000001|              f|               41|4329 Howe Street,...|    Elgin|   Oakland,| Street|     USD|129788|  2021-09-10|  2022-01-19| 2026-03-01|        1|2022-03-27| 2026-03-01|          056845|      4000003|             3|  3|    1106|              8|4000003|     NORMAL|     22|     154|      660|                9|                50|          30| 361.6857583912185|            5|\n",
            "|     4|4000004|         4000004|        Fahima Islam|1812345678|    1812345678|NSXRKJZY3FZ3|              Fahima|    Islam|   1988-02-10|       41.7813693|        -72.474013|              f|               36|222 Plymouth Stre...|    Lilly|     Essex,|Circle,|     USD|587006|  2021-07-20|  2022-01-20| 2025-09-25|        1|2022-03-15| 2025-09-25|         0247790|      4000004|             4|  4|     876|              8|4000004|     NORMAL|     23|     161|      690|                9|                50|          30| 459.3217301486999|            5|\n",
            "|     5|4000005|         4000005|  Tanjina Akter Jame|1812345678|    1812345678|HLEUBI7OAVWN|       Tanjina Akter|     Jame|   1976-08-14|        41.789265|       -72.5414062|              f|               50|4188 Summerview D...|Southeast|     Street| Avenue|     USD|391790|  2021-08-16|  2021-10-08| 2025-12-15|        1|2022-02-06| 2025-12-15|           51667|      4000005|             5|  5|    1070|              8|4000005|     NORMAL|     11|      77|      330|                9|                50|          30| 160.8175920547481|            5|\n",
            "|     6|4000006|         4000006|    Afrin Jahan Urme|1812345678|    1812345678|6S8V4Q9B6J6W|         Afrin Jahan|     Urme|   1988-11-09|        41.785401|        -72.495914|              f|               22|5108 Bass Place S...|   Eatons|    Jessup,|Street,|     USD|209628|  2021-04-26|  2021-11-04| 2025-01-14|        1|2022-01-08| 2025-01-14|              30|      4000006|             6|  6|     406|              8|4000006|     NORMAL|     25|     175|      750|                9|                50|          30|1824.9074581707114|            5|\n",
            "|     7|4000007|         4000007|      Anika Tabassum|1812345678|    1812345678|H8AIWZEN34XW|               Anika| Tabassum|   1985-03-05|       41.7702329|        -72.542441|              t|                4|2201 Marks Mill L...|    North|      #509,|  Road,|     USD|281014|  2021-06-18|  2021-11-15| 2025-06-21|        1|2022-02-15| 2025-06-21|         5488477|      4000007|             7|  7|     369|              8|4000007|     NORMAL|     13|      91|      390|                9|                50|          30|1162.4953429354155|            5|\n",
            "|     8|4000008|         4000008|     Afsana Alam Mim|1812345678|    1812345678|O7DKZRRAMKZU|         Afsana Alam|      Mim|   1982-08-02|       41.7386259|        -72.473091|              t|                8|513 Habberton Roa...|     West|Manchester,| Drive,|     USD|253534|  2021-02-07|  2021-10-07| 2024-09-06|        0|2021-11-02| 2024-09-06|          331642|      4000008|             8|  8|    1087|              8|4000008|     NORMAL|     19|     133|      570|                9|                50|          30|2096.7382202105405|            5|\n",
            "|     9|4000009|         4000009| Sayma Islam Sochona|1812345678|    1812345678|8YVPWHLIO8HA|         Sayma Islam|  Sochona|   1972-04-29|41.74684500000001|       -72.5308606|              t|               32|1025 West 19th St...| Latouche| Northeast,|  Olive|     USD|833795|  2021-06-26|  2021-06-30| 2025-07-16|        1|2022-01-08| 2025-07-16|           93790|      4000009|             9|  9|     316|              8|4000009|     NORMAL|     15|     105|      450|                9|                50|          30| 2110.517913255144|            5|\n",
            "|    10|4000010|         4000010|A. K. M. Tasnim Alam|1812345678|    1812345678|DS512UCJWCYP|     A. K. M. Tasnim|     Alam|   1972-04-05|        41.777459|       -72.5477647|              t|               12|18827 Fish Hatche...|  Russell|  Whitmore,| Drive,|     USD|545459|  2021-05-15|  2021-05-18| 2025-03-12|        1|2021-10-15| 2025-03-12|               3|      4000010|            10| 10|     361|              8|4000010|     NORMAL|     12|      84|      360|                9|                50|          30|1585.3618055613777|            5|\n",
            "|    11|4000011|         4000011|   Md Regone Hossain|1812345678|    1812345678|UTSBE4146DZ5|           Md Regone|  Hossain|   1979-09-21|       41.7663468|        -72.076115|              t|               37|419 Wabasso Avenu...|    South| Anchorage,|Neville|     USD|295965|  2021-04-16|  2021-07-13| 2024-12-14|        0|2021-11-11| 2024-12-14|              36|      4000011|            11| 11|     997|              8|4000011|     NORMAL|     16|     112|      480|                9|                50|          30| 1254.920439597569|            5|\n",
            "|    12|4000012|         4000012| Silvia Kh. Shuvessa|1812345678|    1812345678|A43DXJC24RCJ|          Silvia Kh.| Shuvessa|   1980-11-10|       41.7890898|       -72.5312538|              f|               28|1643 North Jordan...|    North|      Road,| Court,|     USD|681176|  2020-12-20|  2021-07-11| 2024-12-28|        0|2021-07-15| 2024-12-28|              92|      4000012|            12| 12|     531|              8|4000012|     NORMAL|     23|     161|      690|                9|                50|          30|298.80446420857027|            5|\n",
            "|    13|4000013|         4000013|      Yeasin Bhuiyan|1812345678|    1812345678|9VVPYH123PNI|              Yeasin|  Bhuiyan|   1982-09-07|41.80113559999999|-72.51124539999999|              t|               39|534 Turpin Street...|    Early|Louisville,|Street,|     USD|218001|  2020-12-19|  2021-08-20| 2024-12-25|        0|2021-08-23| 2024-12-25|        01901452|      4000013|            13| 13|     391|              8|4000013|     NORMAL|     20|     140|      600|                9|                50|          30|1989.7913274312505|            5|\n",
            "|    14|4000014|         4000014|   Md. Mehedi Hassan|1812345678|    1812345678|GUPWU6VPO9D5|          Md. Mehedi|   Hassan|   1983-12-14|       41.7907629|-72.51124539999999|              f|               39|6016 Northwest 27...|    Dalry|    Midwest|Avenue,|     USD|130949|  2021-03-14|  2021-12-12| 2024-09-07|        0|2022-01-25| 2024-09-07|        25526610|      4000014|            14| 14|     929|              8|4000014|     NORMAL|     12|      84|      360|                9|                50|          30| 2462.378440923651|            5|\n",
            "|    15|4000015|         4000015|       Riyad Hossain|1812345678|    1812345678|VABEW8NASZN8|               Riyad|  Hossain|   1977-07-18|       41.7853084|       -72.5762079|              t|               22|5397 Wentworth Av...|     East|    Circle,|  Road,|     USD|540616|  2021-12-16|  2022-01-16| 2025-07-07|        1|2022-03-21| 2025-07-07|         7817594|      4000015|            15| 15|     736|              8|4000015|     NORMAL|     11|      77|      330|                9|                50|          30| 224.9631615707557|            5|\n",
            "|    16|4000016|         4000016|Md. Saiful Islam ...|1812345678|    1812345678|8Z2O224XWEK7|    Md. Saiful Islam|   Shakil|   1983-11-14|41.79968299999999|-72.54669779999999|              f|               42|3060 Zelda Road, ...|   Porter| Anchorage,|Street,|     USD|266672|  2021-08-29|  2022-01-11| 2025-04-30|        1|2022-02-05| 2025-04-30|          307429|      4000016|            16| 16|    1087|              8|4000016|     NORMAL|     21|     147|      630|                9|                50|          30|1714.3001151090748|            5|\n",
            "|    17|4000017|         4000017|Abdullah Mohammod...|1812345678|    1812345678|EKA5N1ZONAWO|Abdullah Mohammod...|    Boiah|   1980-06-11|        41.805274|        -72.496656|              t|               37|1403 Boulder Cour...|   Kelton|     Drive,|  Road,|     USD|821598|  2021-03-27|  2021-07-01| 2026-01-31|        1|2021-10-31| 2026-01-31|        18241721|      4000017|            17| 17|     697|              8|4000017|     NORMAL|     25|     175|      750|                9|                50|          30|1501.3862759504811|            5|\n",
            "|    18|4000018|         4000018|             Al Amin|1812345678|    1812345678|QLA78TM42P9P|                  Al|     Amin|   1984-01-14|        41.791814|       -72.5116989|              f|               18|349 North Sabine ...|     East|  Savannah,|  Lane,|     USD|502564|  2021-12-05|  2022-02-11| 2026-04-03|        1|2022-03-17| 2026-04-03|              98|      4000018|            18| 18|     660|              8|4000018|     NORMAL|     20|     140|      600|                9|                50|          30|  889.925528170546|            5|\n",
            "|    19|4000019|         4000019|   Zahid Hasan Nirob|1812345678|    1812345678|ZNI3W7UUSH9T|         Zahid Hasan|    Nirob|   1982-02-10|        41.738226|         -72.51832|              t|               30|1749 Haleys Hope ...| Prospect|     Panama|  Villa|     USD|839356|  2021-04-17|  2022-01-03| 2025-01-15|        1|2022-03-18| 2025-01-15|        97222080|      4000019|            19| 19|     235|              8|4000019|     NORMAL|     24|     168|      720|                9|                50|          30|193.83296735379815|            5|\n",
            "|    20|4000020|         4000020|      Sharzan Rahman|1812345678|    1812345678|VM13LV2JKEI1|             Sharzan|   Rahman|   1977-09-14|       41.7907629|       -72.5521009|              f|               26|4738 Mallard Comm...|   Verona|   Fremont,|  Place|     USD|834016|  2021-11-18|  2022-04-06| 2025-03-25|        1|2022-04-06| 2025-03-25|            2048|      4000020|            20| 20|     603|              8|4000020|     NORMAL|     21|     147|      630|                9|                50|          30|1274.0137748181314|            5|\n",
            "+------+-------+----------------+--------------------+----------+--------------+------------+--------------------+---------+-------------+-----------------+------------------+---------------+-----------------+--------------------+---------+-----------+-------+--------+------+------------+------------+-----------+---------+----------+-----------+----------------+-------------+--------------+---+--------+---------------+-------+-----------+-------+--------+---------+-----------------+------------------+------------+------------------+-------------+\n",
            "only showing top 20 rows\n",
            "\n",
            "root\n",
            " |-- SL_No_: string (nullable = true)\n",
            " |-- Emp_ID: string (nullable = true)\n",
            " |-- RFID_Card_Number: string (nullable = true)\n",
            " |-- Employee_Name: string (nullable = true)\n",
            " |-- contact: string (nullable = true)\n",
            " |-- contact_number: string (nullable = true)\n",
            " |-- user_id: string (nullable = true)\n",
            " |-- first_name: string (nullable = true)\n",
            " |-- last_name: string (nullable = true)\n",
            " |-- date_of_birth: string (nullable = true)\n",
            " |-- lat: double (nullable = true)\n",
            " |-- lon: double (nullable = true)\n",
            " |-- is_otp_verified: string (nullable = true)\n",
            " |-- discount_group_id: integer (nullable = true)\n",
            " |-- address: string (nullable = true)\n",
            " |-- city: string (nullable = true)\n",
            " |-- postcode: string (nullable = true)\n",
            " |-- country: string (nullable = true)\n",
            " |-- currency: string (nullable = false)\n",
            " |-- tag: string (nullable = true)\n",
            " |-- created_date: string (nullable = true)\n",
            " |-- updated_date: string (nullable = true)\n",
            " |-- valid_until: string (nullable = true)\n",
            " |-- activated: string (nullable = true)\n",
            " |-- last_used: string (nullable = true)\n",
            " |-- expire_date: string (nullable = true)\n",
            " |-- reference_number: string (nullable = true)\n",
            " |-- employee_code: integer (nullable = true)\n",
            " |-- unique_user_id: integer (nullable = true)\n",
            " |-- id: integer (nullable = true)\n",
            " |-- quantity: integer (nullable = true)\n",
            " |-- product_type_id: integer (nullable = false)\n",
            " |-- rfid_id: string (nullable = true)\n",
            " |-- credit_type: string (nullable = false)\n",
            " |-- per_day: integer (nullable = true)\n",
            " |-- per_week: integer (nullable = true)\n",
            " |-- per_month: integer (nullable = true)\n",
            " |-- inventory_type_id: integer (nullable = false)\n",
            " |-- fixed_credit_limit: integer (nullable = false)\n",
            " |-- credit_limit: integer (nullable = false)\n",
            " |-- due_amount: double (nullable = true)\n",
            " |-- agent_name_id: integer (nullable = false)\n",
            "\n"
          ]
        }
      ]
    },
    {
      "cell_type": "markdown",
      "source": [
        "Creating Schema based on the table definitions"
      ],
      "metadata": {
        "id": "JgqN8E5cmKX7"
      }
    },
    {
      "cell_type": "code",
      "source": [
        "schema_users_personalinfo=StructType([\n",
        "    StructField(\"user_id\",StringType(),True),\n",
        "    StructField(\"first_name\",StringType(),True),\n",
        "    StructField(\"last_name\",StringType(),True),\n",
        "    StructField(\"date_of_birth\",StringType(),True),\n",
        "    StructField(\"contact_number\",StringType(),True),\n",
        "    StructField(\"address\",StringType(),True),\n",
        "    StructField(\"lat\",DoubleType(),True),\n",
        "    StructField(\"lon\",DoubleType(),True),\n",
        "    StructField(\"created_date\",StringType(),True),\n",
        "    StructField(\"updated_date\",StringType(),True),\n",
        "    StructField(\"is_otp_verified\",StringType(),True),\n",
        "    StructField(\"discount_group_id\",IntegerType(),True),\n",
        "])"
      ],
      "metadata": {
        "id": "4OwGBg-lOVqS"
      },
      "execution_count": 32,
      "outputs": []
    },
    {
      "cell_type": "code",
      "source": [
        "schema_users_billinginfo=StructType([\n",
        "    StructField(\"user_id\",StringType(),True),\n",
        "    StructField(\"address\",StringType(),True),\n",
        "    StructField(\"city\",StringType(),True),\n",
        "    StructField(\"postcode\",IntegerType(),True),\n",
        "    StructField(\"country\",StringType(),True),\n",
        "    StructField(\"contact\",StringType(),True),\n",
        "    StructField(\"currency\",StringType(),True),\n",
        "    StructField(\"created_date\",StringType(),True),\n",
        "    StructField(\"updated_date\",StringType(),True),\n",
        "])"
      ],
      "metadata": {
        "id": "xN8TCyrJsx7W"
      },
      "execution_count": 33,
      "outputs": []
    },
    {
      "cell_type": "code",
      "source": [
        "schema_users_rfidinfo=StructType([\n",
        "    StructField(\"user_id\",StringType(),True),\n",
        "    StructField(\"tag\",StringType(),True),\n",
        "    StructField(\"activated\",StringType(),True),\n",
        "    StructField(\"created_date\",StringType(),True),\n",
        "    StructField(\"updated_date\",StringType(),True),\n",
        "    StructField(\"valid_until\",StringType(),True),\n",
        "    StructField(\"last_used\",StringType(),True),\n",
        "    StructField(\"reference_number\",StringType(),True),\n",
        "    StructField(\"employee_code\",IntegerType(),True),\n",
        "    StructField(\"unique_user_id\",IntegerType(),True),\n",
        "])"
      ],
      "metadata": {
        "id": "kKUqnmqntWhE"
      },
      "execution_count": 34,
      "outputs": []
    },
    {
      "cell_type": "code",
      "source": [
        "schema_users_rfiditem=StructType([\n",
        "    StructField(\"id\",IntegerType(),True),\n",
        "    StructField(\"quantity\",IntegerType(),True),\n",
        "    StructField(\"created_date\",StringType(),True),\n",
        "    StructField(\"updated_date\",StringType(),True),\n",
        "    StructField(\"product_type_id\",IntegerType(),True),\n",
        "    StructField(\"rfid_id\",StringType(),True),\n",
        "    StructField(\"credit_type\",StringType(),True),\n",
        "    StructField(\"expire_date\",StringType(),True),\n",
        "])"
      ],
      "metadata": {
        "id": "8R_08Afau81d"
      },
      "execution_count": 35,
      "outputs": []
    },
    {
      "cell_type": "code",
      "source": [
        "schema_users_productlimit=StructType([\n",
        "    StructField(\"id\",IntegerType(),True),\n",
        "    StructField(\"per_day\",IntegerType(),True),\n",
        "    StructField(\"per_week\",IntegerType(),True),\n",
        "    StructField(\"per_month\",IntegerType(),True),\n",
        "    StructField(\"created_date\",StringType(),True),\n",
        "    StructField(\"updated_date\",StringType(),True),\n",
        "    StructField(\"inventory_type_id\",IntegerType(),True),\n",
        "    StructField(\"user_id\",StringType(),True),\n",
        "])"
      ],
      "metadata": {
        "id": "v4a3cBQvv9xM"
      },
      "execution_count": 36,
      "outputs": []
    },
    {
      "cell_type": "code",
      "source": [
        "schema_users_postpaidrfid=StructType([\n",
        "    StructField(\"id\",IntegerType(),True),\n",
        "    StructField(\"fixed_credit_limit\",IntegerType(),True),\n",
        "    StructField(\"credit_limit\",IntegerType(),True),\n",
        "    StructField(\"due_amount\",DoubleType(),True),\n",
        "    StructField(\"created_date\",StringType(),True),\n",
        "    StructField(\"updated_date\",StringType(),True),\n",
        "    StructField(\"agent_name_id\",IntegerType(),True),\n",
        "    StructField(\"rfid_id\",StringType(),True),\n",
        "])"
      ],
      "metadata": {
        "id": "oLgmyPDiv9oM"
      },
      "execution_count": 37,
      "outputs": []
    },
    {
      "cell_type": "code",
      "source": [
        "schema_users_checkout_limit=StructType([\n",
        "    StructField(\"user_id\",StringType(),True),\n",
        "    StructField(\"per_day\",IntegerType(),True),\n",
        "    StructField(\"per_week\",IntegerType(),True),\n",
        "    StructField(\"per_month\",IntegerType(),True),\n",
        "    StructField(\"created_date\",StringType(),True),\n",
        "    StructField(\"updated_date\",StringType(),True),\n",
        "])"
      ],
      "metadata": {
        "id": "M2AjSavPxL0U"
      },
      "execution_count": 38,
      "outputs": []
    },
    {
      "cell_type": "markdown",
      "source": [
        "Functions to create, save and show tables"
      ],
      "metadata": {
        "id": "DTkkDRf4pOu0"
      }
    },
    {
      "cell_type": "code",
      "source": [
        "def saveCSV_createTable(cur_schema,name):\n",
        "    table_select=[]\n",
        "    table_drop=[]\n",
        "    for i in cur_schema.names:\n",
        "        table_select.append(i)\n",
        "    for i in dataset.schema.names:\n",
        "        if i not in table_select:\n",
        "            table_drop.append(i)\n",
        "    dataset.drop(*[i for i in table_drop]).select(*[i for i in table_select]).toPandas().to_csv(root_path+name+\".csv\",header=True,index=False)\n",
        "    table=spark.read.format(\"csv\").option(\"header\",True).schema(cur_schema).load(root_path+name+\".csv\")\n",
        "    return table\n",
        "\n",
        "def showTable(cur,name):\n",
        "    print(name)\n",
        "    cur.show()\n",
        "    cur.printSchema()\n"
      ],
      "metadata": {
        "id": "Dv_AFFd-ITcK"
      },
      "execution_count": 39,
      "outputs": []
    },
    {
      "cell_type": "markdown",
      "source": [
        "Creating and saving tables based on the given table definitions using created schema"
      ],
      "metadata": {
        "id": "tKhZ7dgKpXuD"
      }
    },
    {
      "cell_type": "code",
      "source": [
        "users_personalinfo=saveCSV_createTable(schema_users_personalinfo,\"users_personalinfo\")\n",
        "users_billinginfo=saveCSV_createTable(schema_users_billinginfo,\"users_billinginfo\")\n",
        "users_rfidinfo=saveCSV_createTable(schema_users_rfidinfo,\"users_rfidinfo\")\n",
        "users_rfiditem=saveCSV_createTable(schema_users_rfiditem,\"users_rfiditem\")\n",
        "users_productlimit=saveCSV_createTable(schema_users_productlimit,\"users_productlimit\")\n",
        "users_postpaidrfid=saveCSV_createTable(schema_users_postpaidrfid,\"users_postpaidrfid\")\n",
        "users_checkout_limit=saveCSV_createTable(schema_users_checkout_limit,\"users_checkout_limit\")"
      ],
      "metadata": {
        "id": "4PCSAPiNkjVe"
      },
      "execution_count": 40,
      "outputs": []
    },
    {
      "cell_type": "markdown",
      "source": [
        "The created tables"
      ],
      "metadata": {
        "id": "XJrCdD2KrW6s"
      }
    },
    {
      "cell_type": "code",
      "source": [
        "showTable(users_personalinfo,\"users_personalinfo\")\n",
        "showTable(users_billinginfo,\"users_billinginfo\")\n",
        "showTable(users_rfidinfo,\"users_rfidinfo\")\n",
        "showTable(users_rfiditem,\"users_rfiditem\")\n",
        "showTable(users_productlimit,\"users_productlimit\")\n",
        "showTable(users_postpaidrfid,\"users_postpaidrfid\")\n",
        "showTable(users_checkout_limit,\"users_checkout_limit\")"
      ],
      "metadata": {
        "id": "a5wz6SmxrVXM",
        "colab": {
          "base_uri": "https://localhost:8080/"
        },
        "outputId": "288f6bcf-d9e8-4a80-e6b4-00d663ec5267"
      },
      "execution_count": 41,
      "outputs": [
        {
          "output_type": "stream",
          "name": "stdout",
          "text": [
            "users_personalinfo\n",
            "+------------+--------------------+---------+-------------+--------------+--------------------+-----------------+------------------+------------+------------+---------------+-----------------+\n",
            "|     user_id|          first_name|last_name|date_of_birth|contact_number|             address|              lat|               lon|created_date|updated_date|is_otp_verified|discount_group_id|\n",
            "+------------+--------------------+---------+-------------+--------------+--------------------+-----------------+------------------+------------+------------+---------------+-----------------+\n",
            "|XD3U3I6KMIXP|              Shakil|    Ahmed|   1979-01-25|    1812345678|26563 Chisholm Co...|        41.761374|       -72.5209167|  2021-07-29|  2022-03-11|              t|               11|\n",
            "|XC7PHTC9F397|            Shatabdi|      Roy|   1990-11-23|    1812345678|597 East Miracle ...|        41.763241|-72.47829999999999|  2021-03-07|  2021-08-16|              t|                8|\n",
            "|LRGKNEQ2LA7A|          Md. Pieash|    Ahmed|   1983-06-30|             0|1701 Atlantic Str...|        41.777818|       -72.5426124|  2021-09-10|  2022-01-19|              t|               50|\n",
            "|AAFV2OYVLERD|              Fahima|    Islam|   1988-02-10|    1812345678|6223 Kilmer Loop,...|        41.765366|        -72.542174|  2021-07-20|  2022-01-20|              t|               29|\n",
            "|QLFIAUJKZQ5S|       Tanjina Akter|     Jame|   1976-08-14|    1812345678|8300 Dover Way, A...|        41.766326|       -72.4980889|  2021-08-16|  2021-10-08|              f|               17|\n",
            "|HOW3E1K4N2N7|         Afrin Jahan|     Urme|   1988-11-09|    1812345678|9200 Gainswood Ci...|       41.7709068|       -72.5188292|  2021-04-26|  2021-11-04|              f|                4|\n",
            "|7T3VD18WWJPU|               Anika| Tabassum|   1985-03-05|    1812345678|2815 Saint Edward...|        41.783396|-72.52390249999999|  2021-06-18|  2021-11-15|              t|               50|\n",
            "|VT8J5856KG8N|         Afsana Alam|      Mim|   1982-08-02|    1812345678|212 Burk Way, Del...|41.78936590000001|        -72.495897|  2021-02-07|  2021-10-07|              t|               12|\n",
            "|S1IOJ66SFXEN|         Sayma Islam|  Sochona|   1972-04-29|    1812345678|5065 North 54th A...|         41.75723|       -72.5757232|  2021-06-26|  2021-06-30|              f|               45|\n",
            "|IAEE3AA4R1TR|     A. K. M. Tasnim|     Alam|   1972-04-05|    1812345678|565 North Lakesho...|        41.812844|        -72.496656|  2021-05-15|  2021-05-18|              t|               23|\n",
            "|T7WL2MM8478G|           Md Regone|  Hossain|   1979-09-21|    1812345678|457 Mountain Vill...|       41.7687543|        -72.549026|  2021-04-16|  2021-07-13|              f|                2|\n",
            "|3DQQ3V7FO0J7|          Silvia Kh.| Shuvessa|   1980-11-10|    1812345678|6029 Wright Stree...|       41.7901701|        -72.562237|  2020-12-20|  2021-07-11|              t|               43|\n",
            "|PJF8JN1O0558|              Yeasin|  Bhuiyan|   1982-09-07|    1812345678|16 Clark Street, ...|        41.320683|       -72.5234493|  2020-12-19|  2021-08-20|              f|               46|\n",
            "|I3Z6FL51H5PR|          Md. Mehedi|   Hassan|   1983-12-14|    1812345678|2936 State Avenue...|        41.780963|       -72.5443361|  2021-03-14|  2021-12-12|              t|                9|\n",
            "|8YJH4XRR0HBU|               Riyad|  Hossain|   1977-07-18|    1812345678|6500 Thurlow Plac...|       41.7673619|       -72.4996759|  2021-12-16|  2022-01-16|              f|               32|\n",
            "|HPTIYHDTWXNC|    Md. Saiful Islam|   Shakil|   1983-11-14|    1812345678|2505 North Hampto...|        41.750419|       -72.5136789|  2021-08-29|  2022-01-11|              f|               16|\n",
            "|C9F7QGN5SQVW|Abdullah Mohammod...|    Boiah|   1980-06-11|    1812345678|4438 Maine Avenue...|       41.7712085|       -72.5188292|  2021-03-27|  2021-07-01|              f|               20|\n",
            "|NFT3ZBO6OFMZ|                  Al|     Amin|   1984-01-14|    1812345678|802 East 37th Str...|       41.7901701|       -72.5306932|  2021-12-05|  2022-02-11|              t|               34|\n",
            "|Y0Z0XIY9UAQ7|         Zahid Hasan|    Nirob|   1982-02-10|    1812345678|1456 East 39th St...|       41.7771997|-72.48995599999999|  2021-04-17|  2022-01-03|              t|               18|\n",
            "|IHDSCAQ2M7VO|             Sharzan|   Rahman|   1977-09-14|    1812345678|8043 Cranberry St...|       41.7691683|        -72.541037|  2021-11-18|  2022-04-06|              t|               21|\n",
            "+------------+--------------------+---------+-------------+--------------+--------------------+-----------------+------------------+------------+------------+---------------+-----------------+\n",
            "only showing top 20 rows\n",
            "\n",
            "root\n",
            " |-- user_id: string (nullable = true)\n",
            " |-- first_name: string (nullable = true)\n",
            " |-- last_name: string (nullable = true)\n",
            " |-- date_of_birth: string (nullable = true)\n",
            " |-- contact_number: string (nullable = true)\n",
            " |-- address: string (nullable = true)\n",
            " |-- lat: double (nullable = true)\n",
            " |-- lon: double (nullable = true)\n",
            " |-- created_date: string (nullable = true)\n",
            " |-- updated_date: string (nullable = true)\n",
            " |-- is_otp_verified: string (nullable = true)\n",
            " |-- discount_group_id: integer (nullable = true)\n",
            "\n",
            "users_billinginfo\n",
            "+------------+--------------------+----------+--------+--------+----------+--------+------------+------------+\n",
            "|     user_id|             address|      city|postcode| country|   contact|currency|created_date|updated_date|\n",
            "+------------+--------------------+----------+--------+--------+----------+--------+------------+------------+\n",
            "|5EXNIQE09H4R|775 47th Street, ...|  Longview|    null|   Lane,|1812345678|     USD|  2021-07-29|  2022-03-11|\n",
            "|BIV5I7LXLGNU|122 Summer Street...|      West|    null|Mountain|1812345678|     USD|  2021-03-07|  2021-08-16|\n",
            "|OKZP6GJG6RFT|3720 West 86th Av...| Birchwood|    null| Street,|         0|     USD|  2021-09-10|  2022-01-19|\n",
            "|NNLX7DDU4IH8|7096 Park Mesa Wa...|    Durham|    null|  Cholla|1812345678|     USD|  2021-07-20|  2022-01-20|\n",
            "|20L626D3DBBW|5128 West Carol A...|     North|    null|  Drive,|1812345678|     USD|  2021-08-16|  2021-10-08|\n",
            "|2XQ8OLJO46OU|96 Lakehouse Driv...|Turtleback|    null| Avenue,|1812345678|     USD|  2021-04-26|  2021-11-04|\n",
            "|61CU00LKVLT9|5396 North Reese ...|      Beth|    null|  Street|1812345678|     USD|  2021-06-18|  2021-11-15|\n",
            "|5DXM4CBFZ2LS|44 Elm Street, Ea...|  Toreador|    null|   Downs|1812345678|     USD|  2021-02-07|  2021-10-07|\n",
            "|KS3WQLBSRVOP|405 Flint Ridge C...|    Spence|    null| Avenue,|1812345678|     USD|  2021-06-26|  2021-06-30|\n",
            "|7F9E31SM69FU|461 Alder Street,...|    Wendys|    null|    Way,|1812345678|     USD|  2021-05-15|  2021-05-18|\n",
            "|Q27U6GR3Q3D5|14 Olympia Street...|     North|    null|    Way,|1812345678|     USD|  2021-04-16|  2021-07-13|\n",
            "|5GOHJQ19FA0S|68 Bigelow Street...|    Wasena|    null|   Glenn|1812345678|     USD|  2020-12-20|  2021-07-11|\n",
            "|1H2Y0P72VUHC|2098 Lower Newton...|   Dickens|    null|Virginia|1812345678|     USD|  2020-12-19|  2021-08-20|\n",
            "|2QDT8M5GVHJ3|150 Carter Street...|  Shoreham|    null| Lincoln|1812345678|     USD|  2021-03-14|  2021-12-12|\n",
            "|S6F5QKLOP8HQ|480 Keene Road, W...|     Royal|    null| Street,|1812345678|     USD|  2021-12-16|  2022-01-16|\n",
            "|2SEBVC1X0R8T|982 Stonington Dr...|      West|    null| Street,|1812345678|     USD|  2021-08-29|  2022-01-11|\n",
            "|Z7WEPWN7968M|1632 North Lunsfo...| Hampstead|    null| Common,|1812345678|     USD|  2021-03-27|  2021-07-01|\n",
            "|R4FAH6Z0W0PY|91 Hoague Drive, ...|     Zelda|    null|  Avenue|1812345678|     USD|  2021-12-05|  2022-02-11|\n",
            "|KAM83R2NEN8G|143 Main Street, ...|   Elkader|    null|   Place|1812345678|     USD|  2021-04-17|  2022-01-03|\n",
            "|Z8OLTOII2L83|5420 Allison Stre...|   Addison|    null|  Drive,|1812345678|     USD|  2021-11-18|  2022-04-06|\n",
            "+------------+--------------------+----------+--------+--------+----------+--------+------------+------------+\n",
            "only showing top 20 rows\n",
            "\n",
            "root\n",
            " |-- user_id: string (nullable = true)\n",
            " |-- address: string (nullable = true)\n",
            " |-- city: string (nullable = true)\n",
            " |-- postcode: integer (nullable = true)\n",
            " |-- country: string (nullable = true)\n",
            " |-- contact: string (nullable = true)\n",
            " |-- currency: string (nullable = true)\n",
            " |-- created_date: string (nullable = true)\n",
            " |-- updated_date: string (nullable = true)\n",
            "\n",
            "users_rfidinfo\n",
            "+------------+------+---------+------------+------------+-----------+----------+----------------+-------------+--------------+\n",
            "|     user_id|   tag|activated|created_date|updated_date|valid_until| last_used|reference_number|employee_code|unique_user_id|\n",
            "+------------+------+---------+------------+------------+-----------+----------+----------------+-------------+--------------+\n",
            "|GWTRSGUOPD6P|634495|        1|  2021-07-29|  2022-03-11| 2025-10-23|2022-04-08|          637335|      4000001|             1|\n",
            "|VJ9X8MJ7QCXO|837961|        0|  2021-03-07|  2021-08-16| 2024-08-16|2021-11-05|        89007614|      4000002|             2|\n",
            "|V2FVV2KQG2KP|986594|        1|  2021-09-10|  2022-01-19| 2026-03-01|2022-03-27|              81|      4000003|             3|\n",
            "|8IPAOIOGB3M7|919703|        1|  2021-07-20|  2022-01-20| 2025-09-25|2022-03-15|              17|      4000004|             4|\n",
            "|7Z9FXGFBV1AX|486381|        1|  2021-08-16|  2021-10-08| 2025-12-15|2022-02-06|               4|      4000005|             5|\n",
            "|AGPNZIVRCUXK|480218|        1|  2021-04-26|  2021-11-04| 2025-01-14|2022-01-08|        50887684|      4000006|             6|\n",
            "|LUHJPXQ9QLH1|843491|        1|  2021-06-18|  2021-11-15| 2025-06-21|2022-02-15|           45165|      4000007|             7|\n",
            "|NDRMDQH6UN0T|394872|        0|  2021-02-07|  2021-10-07| 2024-09-06|2021-11-02|           64314|      4000008|             8|\n",
            "|CIYGEJ5S2DGA|930818|        1|  2021-06-26|  2021-06-30| 2025-07-16|2022-01-08|            2608|      4000009|             9|\n",
            "|120YOKM4ZOE6|741827|        1|  2021-05-15|  2021-05-18| 2025-03-12|2021-10-15|              72|      4000010|            10|\n",
            "|9S5CIF2PNBDZ|125028|        0|  2021-04-16|  2021-07-13| 2024-12-14|2021-11-11|              17|      4000011|            11|\n",
            "|0NRC5SVTZOQN|399976|        0|  2020-12-20|  2021-07-11| 2024-12-28|2021-07-15|           75432|      4000012|            12|\n",
            "|COSR40MY8OPD|078712|        0|  2020-12-19|  2021-08-20| 2024-12-25|2021-08-23|               8|      4000013|            13|\n",
            "|CKSBTMYVYVHS|156747|        0|  2021-03-14|  2021-12-12| 2024-09-07|2022-01-25|            3790|      4000014|            14|\n",
            "|536RMD7SVZ8J|591575|        1|  2021-12-16|  2022-01-16| 2025-07-07|2022-03-21|              64|      4000015|            15|\n",
            "|FHCR8LE9779S|478071|        1|  2021-08-29|  2022-01-11| 2025-04-30|2022-02-05|          853409|      4000016|            16|\n",
            "|5P4JCCQT8LLL|433292|        1|  2021-03-27|  2021-07-01| 2026-01-31|2021-10-31|            1612|      4000017|            17|\n",
            "|QEDEQEGSKMYJ|625748|        1|  2021-12-05|  2022-02-11| 2026-04-03|2022-03-17|        79239623|      4000018|            18|\n",
            "|2ZSPUR7JP5QK|392041|        1|  2021-04-17|  2022-01-03| 2025-01-15|2022-03-18|        30002089|      4000019|            19|\n",
            "|LXWDP1ZRG2JQ|395703|        1|  2021-11-18|  2022-04-06| 2025-03-25|2022-04-06|              90|      4000020|            20|\n",
            "+------------+------+---------+------------+------------+-----------+----------+----------------+-------------+--------------+\n",
            "only showing top 20 rows\n",
            "\n",
            "root\n",
            " |-- user_id: string (nullable = true)\n",
            " |-- tag: string (nullable = true)\n",
            " |-- activated: string (nullable = true)\n",
            " |-- created_date: string (nullable = true)\n",
            " |-- updated_date: string (nullable = true)\n",
            " |-- valid_until: string (nullable = true)\n",
            " |-- last_used: string (nullable = true)\n",
            " |-- reference_number: string (nullable = true)\n",
            " |-- employee_code: integer (nullable = true)\n",
            " |-- unique_user_id: integer (nullable = true)\n",
            "\n",
            "users_rfiditem\n",
            "+---+--------+------------+------------+---------------+-------+-----------+-----------+\n",
            "| id|quantity|created_date|updated_date|product_type_id|rfid_id|credit_type|expire_date|\n",
            "+---+--------+------------+------------+---------------+-------+-----------+-----------+\n",
            "|  1|     835|  2021-07-29|  2022-03-11|              8|4000001|     NORMAL| 2025-10-23|\n",
            "|  2|     565|  2021-03-07|  2021-08-16|              8|4000002|     NORMAL| 2024-08-16|\n",
            "|  3|     534|  2021-09-10|  2022-01-19|              8|4000003|     NORMAL| 2026-03-01|\n",
            "|  4|    1033|  2021-07-20|  2022-01-20|              8|4000004|     NORMAL| 2025-09-25|\n",
            "|  5|     752|  2021-08-16|  2021-10-08|              8|4000005|     NORMAL| 2025-12-15|\n",
            "|  6|    1188|  2021-04-26|  2021-11-04|              8|4000006|     NORMAL| 2025-01-14|\n",
            "|  7|     637|  2021-06-18|  2021-11-15|              8|4000007|     NORMAL| 2025-06-21|\n",
            "|  8|     449|  2021-02-07|  2021-10-07|              8|4000008|     NORMAL| 2024-09-06|\n",
            "|  9|     306|  2021-06-26|  2021-06-30|              8|4000009|     NORMAL| 2025-07-16|\n",
            "| 10|    1228|  2021-05-15|  2021-05-18|              8|4000010|     NORMAL| 2025-03-12|\n",
            "| 11|     513|  2021-04-16|  2021-07-13|              8|4000011|     NORMAL| 2024-12-14|\n",
            "| 12|     315|  2020-12-20|  2021-07-11|              8|4000012|     NORMAL| 2024-12-28|\n",
            "| 13|     865|  2020-12-19|  2021-08-20|              8|4000013|     NORMAL| 2024-12-25|\n",
            "| 14|     451|  2021-03-14|  2021-12-12|              8|4000014|     NORMAL| 2024-09-07|\n",
            "| 15|     327|  2021-12-16|  2022-01-16|              8|4000015|     NORMAL| 2025-07-07|\n",
            "| 16|     408|  2021-08-29|  2022-01-11|              8|4000016|     NORMAL| 2025-04-30|\n",
            "| 17|     315|  2021-03-27|  2021-07-01|              8|4000017|     NORMAL| 2026-01-31|\n",
            "| 18|     585|  2021-12-05|  2022-02-11|              8|4000018|     NORMAL| 2026-04-03|\n",
            "| 19|    1044|  2021-04-17|  2022-01-03|              8|4000019|     NORMAL| 2025-01-15|\n",
            "| 20|     990|  2021-11-18|  2022-04-06|              8|4000020|     NORMAL| 2025-03-25|\n",
            "+---+--------+------------+------------+---------------+-------+-----------+-----------+\n",
            "only showing top 20 rows\n",
            "\n",
            "root\n",
            " |-- id: integer (nullable = true)\n",
            " |-- quantity: integer (nullable = true)\n",
            " |-- created_date: string (nullable = true)\n",
            " |-- updated_date: string (nullable = true)\n",
            " |-- product_type_id: integer (nullable = true)\n",
            " |-- rfid_id: string (nullable = true)\n",
            " |-- credit_type: string (nullable = true)\n",
            " |-- expire_date: string (nullable = true)\n",
            "\n",
            "users_productlimit\n",
            "+---+-------+--------+---------+------------+------------+-----------------+------------+\n",
            "| id|per_day|per_week|per_month|created_date|updated_date|inventory_type_id|     user_id|\n",
            "+---+-------+--------+---------+------------+------------+-----------------+------------+\n",
            "|  1|     25|     175|      750|  2021-07-29|  2022-03-11|                9|9GBTO8F6P839|\n",
            "|  2|     11|      77|      330|  2021-03-07|  2021-08-16|                9|0VHVUZES15R1|\n",
            "|  3|     18|     126|      540|  2021-09-10|  2022-01-19|                9|IJZPF343EAZZ|\n",
            "|  4|     15|     105|      450|  2021-07-20|  2022-01-20|                9|ZG3VDU2V31LE|\n",
            "|  5|     11|      77|      330|  2021-08-16|  2021-10-08|                9|Z2ZEVF7XA1JA|\n",
            "|  6|     10|      70|      300|  2021-04-26|  2021-11-04|                9|U7ZO7ZSQJMJJ|\n",
            "|  7|     25|     175|      750|  2021-06-18|  2021-11-15|                9|RF3WV768I9XI|\n",
            "|  8|     19|     133|      570|  2021-02-07|  2021-10-07|                9|RQOSQLE3UL7M|\n",
            "|  9|     13|      91|      390|  2021-06-26|  2021-06-30|                9|4ANF3U7TX9DZ|\n",
            "| 10|     22|     154|      660|  2021-05-15|  2021-05-18|                9|WL2HLDK46IY4|\n",
            "| 11|     20|     140|      600|  2021-04-16|  2021-07-13|                9|UV5KPBKBOZZ4|\n",
            "| 12|     17|     119|      510|  2020-12-20|  2021-07-11|                9|UK82UD2EQ339|\n",
            "| 13|     16|     112|      480|  2020-12-19|  2021-08-20|                9|SVWQLTA6070L|\n",
            "| 14|     10|      70|      300|  2021-03-14|  2021-12-12|                9|R1J0X5FKTEMM|\n",
            "| 15|     20|     140|      600|  2021-12-16|  2022-01-16|                9|GODCNCKBR9MM|\n",
            "| 16|     14|      98|      420|  2021-08-29|  2022-01-11|                9|XO8QOJF19JJ3|\n",
            "| 17|     20|     140|      600|  2021-03-27|  2021-07-01|                9|SHUJ116L1HA8|\n",
            "| 18|     11|      77|      330|  2021-12-05|  2022-02-11|                9|5CK834NINGXO|\n",
            "| 19|     23|     161|      690|  2021-04-17|  2022-01-03|                9|WGS1TY0RHY0T|\n",
            "| 20|     12|      84|      360|  2021-11-18|  2022-04-06|                9|HB4223D1SCWV|\n",
            "+---+-------+--------+---------+------------+------------+-----------------+------------+\n",
            "only showing top 20 rows\n",
            "\n",
            "root\n",
            " |-- id: integer (nullable = true)\n",
            " |-- per_day: integer (nullable = true)\n",
            " |-- per_week: integer (nullable = true)\n",
            " |-- per_month: integer (nullable = true)\n",
            " |-- created_date: string (nullable = true)\n",
            " |-- updated_date: string (nullable = true)\n",
            " |-- inventory_type_id: integer (nullable = true)\n",
            " |-- user_id: string (nullable = true)\n",
            "\n",
            "users_postpaidrfid\n",
            "+---+------------------+------------+------------------+------------+------------+-------------+-------+\n",
            "| id|fixed_credit_limit|credit_limit|        due_amount|created_date|updated_date|agent_name_id|rfid_id|\n",
            "+---+------------------+------------+------------------+------------+------------+-------------+-------+\n",
            "|  1|                50|          30| 886.0030583758275|  2021-07-29|  2022-03-11|            5|4000001|\n",
            "|  2|                50|          30|1096.3076681564532|  2021-03-07|  2021-08-16|            5|4000002|\n",
            "|  3|                50|          30| 1255.567105831829|  2021-09-10|  2022-01-19|            5|4000003|\n",
            "|  4|                50|          30|1146.9015174004332|  2021-07-20|  2022-01-20|            5|4000004|\n",
            "|  5|                50|          30|313.76020846066064|  2021-08-16|  2021-10-08|            5|4000005|\n",
            "|  6|                50|          30| 975.2391577328505|  2021-04-26|  2021-11-04|            5|4000006|\n",
            "|  7|                50|          30|1269.5809820079057|  2021-06-18|  2021-11-15|            5|4000007|\n",
            "|  8|                50|          30|2235.0884245576976|  2021-02-07|  2021-10-07|            5|4000008|\n",
            "|  9|                50|          30| 911.7287540275731|  2021-06-26|  2021-06-30|            5|4000009|\n",
            "| 10|                50|          30|1081.9326601129305|  2021-05-15|  2021-05-18|            5|4000010|\n",
            "| 11|                50|          30|1621.7560415431894|  2021-04-16|  2021-07-13|            5|4000011|\n",
            "| 12|                50|          30| 2264.330628554417|  2020-12-20|  2021-07-11|            5|4000012|\n",
            "| 13|                50|          30| 2472.578708375092|  2020-12-19|  2021-08-20|            5|4000013|\n",
            "| 14|                50|          30| 763.9107089330497|  2021-03-14|  2021-12-12|            5|4000014|\n",
            "| 15|                50|          30| 535.2941535617333|  2021-12-16|  2022-01-16|            5|4000015|\n",
            "| 16|                50|          30|1819.7947120048902|  2021-08-29|  2022-01-11|            5|4000016|\n",
            "| 17|                50|          30| 513.9772809081154|  2021-03-27|  2021-07-01|            5|4000017|\n",
            "| 18|                50|          30|  1055.33085142346|  2021-12-05|  2022-02-11|            5|4000018|\n",
            "| 19|                50|          30| 1814.934606965941|  2021-04-17|  2022-01-03|            5|4000019|\n",
            "| 20|                50|          30| 684.0761022477877|  2021-11-18|  2022-04-06|            5|4000020|\n",
            "+---+------------------+------------+------------------+------------+------------+-------------+-------+\n",
            "only showing top 20 rows\n",
            "\n",
            "root\n",
            " |-- id: integer (nullable = true)\n",
            " |-- fixed_credit_limit: integer (nullable = true)\n",
            " |-- credit_limit: integer (nullable = true)\n",
            " |-- due_amount: double (nullable = true)\n",
            " |-- created_date: string (nullable = true)\n",
            " |-- updated_date: string (nullable = true)\n",
            " |-- agent_name_id: integer (nullable = true)\n",
            " |-- rfid_id: string (nullable = true)\n",
            "\n",
            "users_checkout_limit\n",
            "+------------+-------+--------+---------+------------+------------+\n",
            "|     user_id|per_day|per_week|per_month|created_date|updated_date|\n",
            "+------------+-------+--------+---------+------------+------------+\n",
            "|PGNJNGMJP39J|     17|     119|      510|  2021-07-29|  2022-03-11|\n",
            "|N14FGTKFZ3WR|     10|      70|      300|  2021-03-07|  2021-08-16|\n",
            "|NEXFH2GNBGY2|     11|      77|      330|  2021-09-10|  2022-01-19|\n",
            "|2CY8VKHYKAF3|     16|     112|      480|  2021-07-20|  2022-01-20|\n",
            "|1R08IXL6CIXI|     18|     126|      540|  2021-08-16|  2021-10-08|\n",
            "|BFTZWJ4OIPE6|     18|     126|      540|  2021-04-26|  2021-11-04|\n",
            "|HSWP4JFTTZLK|     13|      91|      390|  2021-06-18|  2021-11-15|\n",
            "|N31FFLNTNDZD|     17|     119|      510|  2021-02-07|  2021-10-07|\n",
            "|LL25K85IDUHI|     11|      77|      330|  2021-06-26|  2021-06-30|\n",
            "|OAEXCB2VZISP|     12|      84|      360|  2021-05-15|  2021-05-18|\n",
            "|LGOMDJKDBHOL|     16|     112|      480|  2021-04-16|  2021-07-13|\n",
            "|Y7TB2FFHLGNK|     13|      91|      390|  2020-12-20|  2021-07-11|\n",
            "|3Y08TAJ5NEXC|     19|     133|      570|  2020-12-19|  2021-08-20|\n",
            "|3FTHWYRMQJY2|     14|      98|      420|  2021-03-14|  2021-12-12|\n",
            "|U8A4332UPEF7|     17|     119|      510|  2021-12-16|  2022-01-16|\n",
            "|7H3E299IZAK4|     12|      84|      360|  2021-08-29|  2022-01-11|\n",
            "|CRDD1LGYWTIL|     22|     154|      660|  2021-03-27|  2021-07-01|\n",
            "|59D3N9QMA3JP|     24|     168|      720|  2021-12-05|  2022-02-11|\n",
            "|RVDBBNOPYLM1|     10|      70|      300|  2021-04-17|  2022-01-03|\n",
            "|JB944KS0WESS|     14|      98|      420|  2021-11-18|  2022-04-06|\n",
            "+------------+-------+--------+---------+------------+------------+\n",
            "only showing top 20 rows\n",
            "\n",
            "root\n",
            " |-- user_id: string (nullable = true)\n",
            " |-- per_day: integer (nullable = true)\n",
            " |-- per_week: integer (nullable = true)\n",
            " |-- per_month: integer (nullable = true)\n",
            " |-- created_date: string (nullable = true)\n",
            " |-- updated_date: string (nullable = true)\n",
            "\n"
          ]
        }
      ]
    },
    {
      "cell_type": "markdown",
      "source": [
        "Modules used"
      ],
      "metadata": {
        "id": "EMLs3Bq9THZu"
      }
    },
    {
      "cell_type": "code",
      "source": [
        "import types\n",
        "def imports():\n",
        "    for name, val in globals().items():\n",
        "        if isinstance(val, types.ModuleType):\n",
        "            yield val.__name__\n",
        "list(imports())"
      ],
      "metadata": {
        "id": "uttaKdp0TG2B",
        "colab": {
          "base_uri": "https://localhost:8080/"
        },
        "outputId": "0444400b-4d65-4fe5-b636-1333af730ab8"
      },
      "execution_count": 42,
      "outputs": [
        {
          "output_type": "execute_result",
          "data": {
            "text/plain": [
              "['builtins',\n",
              " 'builtins',\n",
              " 'IPython.core.shadowns',\n",
              " 'os',\n",
              " 'pyspark',\n",
              " 'findspark',\n",
              " 'numpy',\n",
              " 'pandas',\n",
              " 'pyspark.sql.functions',\n",
              " 'google.colab.drive',\n",
              " 'string',\n",
              " 'random',\n",
              " 'random_address',\n",
              " 'math',\n",
              " 'sys',\n",
              " 'functools',\n",
              " 'warnings',\n",
              " 'types']"
            ]
          },
          "metadata": {},
          "execution_count": 42
        }
      ]
    }
  ]
}
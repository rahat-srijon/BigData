{
  "nbformat": 4,
  "nbformat_minor": 0,
  "metadata": {
    "colab": {
      "name": "Big_Data_and_IoT_Project.ipynb",
      "private_outputs": true,
      "provenance": []
    },
    "kernelspec": {
      "name": "python3",
      "display_name": "Python 3"
    },
    "language_info": {
      "name": "python"
    }
  },
  "cells": [
    {
      "cell_type": "markdown",
      "source": [
        "Initialization for Google Colab"
      ],
      "metadata": {
        "id": "8Wsx9ZNxlOBF"
      }
    },
    {
      "cell_type": "code",
      "execution_count": null,
      "metadata": {
        "id": "UoJAJnlb-3Yn"
      },
      "outputs": [],
      "source": [
        "!apt-get install openjdk-8-jdk-headless -qq > /dev/null\n",
        "!wget -q https://dlcdn.apache.org/spark/spark-3.2.1/spark-3.2.1-bin-hadoop3.2.tgz\n",
        "!tar xf spark-3.2.1-bin-hadoop3.2.tgz\n",
        "!pip install -q findspark\n",
        "!pip install -q pyspark\n",
        "import os\n",
        "import pyspark\n",
        "import findspark\n",
        "import numpy as np\n",
        "import pandas as pd\n",
        "from datetime import date,timedelta,datetime\n",
        "from pyspark.sql import functions as F\n",
        "from pyspark.sql import SparkSession\n",
        "from google.colab import drive\n",
        "from pyspark.sql.types import *\n",
        "from pyspark.sql.window import Window\n",
        "os.environ[\"JAVA_HOME\"] = \"/usr/lib/jvm/java-8-openjdk-amd64\"\n",
        "os.environ[\"SPARK_HOME\"] = \"/content/spark-3.2.1-bin-hadoop3.2\"\n",
        "findspark.init()\n",
        "findspark.find()\n",
        "spark = SparkSession.builder\\\n",
        "        .master(\"local\")\\\n",
        "        .appName(\"Colab\")\\\n",
        "        .config('spark.ui.port', '4050')\\\n",
        "        .getOrCreate()"
      ]
    },
    {
      "cell_type": "markdown",
      "source": [
        "Mounting Google Drive"
      ],
      "metadata": {
        "id": "aBqOZpz_lUWb"
      }
    },
    {
      "cell_type": "code",
      "source": [
        "drive.mount('/content/gdrive/',force_remount=True)\n",
        "root_path=\"/content/gdrive/MyDrive/Project/Big_Data_and_IoT_project/\""
      ],
      "metadata": {
        "id": "yTi64D1W-4n2"
      },
      "execution_count": null,
      "outputs": []
    },
    {
      "cell_type": "markdown",
      "source": [
        "Reading the provided .csv file"
      ],
      "metadata": {
        "id": "yXyjHmspl3By"
      }
    },
    {
      "cell_type": "code",
      "source": [
        "dataset=spark.read.load(root_path+\"dataset.csv\",format=\"csv\",sep=\",\",inferScheme=True,header=True)\n",
        "dataset.show()"
      ],
      "metadata": {
        "id": "5ZJne4tYCDic"
      },
      "execution_count": null,
      "outputs": []
    },
    {
      "cell_type": "markdown",
      "source": [
        "Checking the provided data"
      ],
      "metadata": {
        "id": "WjRDB-b8GIXy"
      }
    },
    {
      "cell_type": "code",
      "source": [
        "dataset.summary().show()"
      ],
      "metadata": {
        "id": "4SkJauCvEf1O"
      },
      "execution_count": null,
      "outputs": []
    },
    {
      "cell_type": "markdown",
      "source": [
        "Renaming the columns for further access"
      ],
      "metadata": {
        "id": "QL3OZt-Wl8bZ"
      }
    },
    {
      "cell_type": "code",
      "source": [
        "for i in dataset.schema.names:\n",
        "    S=i.replace(' ','_')\n",
        "    S=S.replace('.','_')\n",
        "    dataset=dataset.withColumnRenamed(i,S)\n",
        "dataset=dataset.na.drop()"
      ],
      "metadata": {
        "id": "aHeAhUzJUZXI"
      },
      "execution_count": null,
      "outputs": []
    },
    {
      "cell_type": "markdown",
      "source": [
        "Checking existing schema"
      ],
      "metadata": {
        "id": "kma2aJL0o96J"
      }
    },
    {
      "cell_type": "code",
      "source": [
        "for i in dataset.schema:\n",
        "    print(i)\n",
        "print()\n",
        "dataset.printSchema()\n"
      ],
      "metadata": {
        "id": "JhP7wVohHHT6"
      },
      "execution_count": null,
      "outputs": []
    },
    {
      "cell_type": "markdown",
      "source": [
        "Additional imports for data processing"
      ],
      "metadata": {
        "id": "tHGFotavlXzW"
      }
    },
    {
      "cell_type": "code",
      "source": [
        "!pip install -q random-address\n",
        "import string\n",
        "import random\n",
        "import random_address\n",
        "import math\n",
        "from pyspark.sql import SQLContext\n",
        "from pyspark.sql.functions import *\n",
        "from pyspark.sql.types import *\n",
        "from random import randrange\n",
        "from datetime import timedelta\n",
        "from datetime import datetime"
      ],
      "metadata": {
        "id": "_CdvxbTilqJr"
      },
      "execution_count": null,
      "outputs": []
    },
    {
      "cell_type": "markdown",
      "source": [
        "Helper methods for generating certain data"
      ],
      "metadata": {
        "id": "neOdSfrlllRT"
      }
    },
    {
      "cell_type": "code",
      "source": [
        "def getRandomAddress():\n",
        "    ret=random_address.real_random_address()\n",
        "    S=\"\"\n",
        "    T=\"\"\n",
        "    f=0\n",
        "    for i in ret.values():\n",
        "        try:\n",
        "            T+=i\n",
        "            if len(i)>0:\n",
        "                if f==1:\n",
        "                    S+=\", \"\n",
        "                else:\n",
        "                    f=1\n",
        "                S+=str(i)\n",
        "        except:\n",
        "            break\n",
        "    return S\n",
        "\n",
        "def getRandomLatitude():\n",
        "    ret=random_address.real_random_address_by_state('CT')\n",
        "    return ret['coordinates']['lat']\n",
        "\n",
        "def getRandomLongitude():\n",
        "    ret=random_address.real_random_address_by_state('CT')\n",
        "    return ret['coordinates']['lng']\n",
        "\n",
        "def random_date(start,end):\n",
        "    delta=end-start\n",
        "    int_delta=(delta.days*24*60*60)+delta.seconds\n",
        "    random_second=randrange(int_delta)\n",
        "    return start+timedelta(seconds=random_second)\n",
        "\n",
        "def DoB():\n",
        "    d1 = datetime.strptime('12/16/1971 12:00 AM', '%m/%d/%Y %I:%M %p')\n",
        "    d2 = datetime.strptime('12/31/1990 11:59 PM', '%m/%d/%Y %I:%M %p')\n",
        "    return random_date(d1,d2)\n",
        "\n",
        "def DoC():\n",
        "    d1 = datetime.strptime('12/16/2020 12:00 AM', '%m/%d/%Y %I:%M %p')\n",
        "    d2 = datetime.strptime('12/31/2021 11:59 PM', '%m/%d/%Y %I:%M %p')\n",
        "    return random_date(d1,d2)\n",
        "\n",
        "def DoU(s):\n",
        "    t=s.split('-')\n",
        "    s=t[1]+'/'+t[2]+'/'+t[0]\n",
        "    d1 = datetime.strptime(s+' 12:00 AM', '%m/%d/%Y %I:%M %p')\n",
        "    d2 = datetime.strptime('04/09/2022 11:59 PM', '%m/%d/%Y %I:%M %p')\n",
        "    return random_date(d1,d2)\n",
        "\n",
        "def DoV(s):\n",
        "    t=s.split('-')\n",
        "    s=t[1]+'/'+t[2]+'/'+t[0][:-1]+'4'\n",
        "    d1 = datetime.strptime(s+' 12:00 AM', '%m/%d/%Y %I:%M %p')\n",
        "    d2 = datetime.strptime('04/09/2026 11:59 PM', '%m/%d/%Y %I:%M %p')\n",
        "    return random_date(d1,d2)\n",
        "\n",
        "def DoL(s):\n",
        "    t=s.split('-')\n",
        "    s=t[1]+'/'+t[2]+'/'+t[0]\n",
        "    d1 = datetime.strptime(s+' 12:00 AM', '%m/%d/%Y %I:%M %p')\n",
        "    d2 = datetime.strptime('04/09/2022 11:59 PM', '%m/%d/%Y %I:%M %p')\n",
        "    return random_date(d1,d2)\n",
        "\n",
        "def getActTemp(st):\n",
        "    if int(st)>2024:\n",
        "        return '1'\n",
        "    else:\n",
        "        return '0'"
      ],
      "metadata": {
        "id": "auYG80tf5sCa"
      },
      "execution_count": null,
      "outputs": []
    },
    {
      "cell_type": "markdown",
      "source": [
        "Lambda functions for generating data"
      ],
      "metadata": {
        "id": "3xKfZAyVlrM_"
      }
    },
    {
      "cell_type": "code",
      "source": [
        "genUserID=udf(lambda :''.join(random.choices(string.ascii_uppercase+string.digits,k=12)),StringType())\n",
        "genDGID=udf(lambda :random.randint(1,50),IntegerType())\n",
        "genLimit=udf(lambda :random.randint(10,25),IntegerType())\n",
        "genDue=udf(lambda :random.uniform(100.0,2500.0),DoubleType())\n",
        "genTag=udf(lambda :''.join(random.choices(string.digits,k=6)),StringType())\n",
        "genRefN=udf(lambda :''.join(random.choices(string.digits,k=random.randint(1,8))),StringType())\n",
        "genQty=udf(lambda :random.randint(123,1234),IntegerType())\n",
        "genPTID=udf(lambda :random.randint(1,25),IntegerType())\n",
        "genFirstName=udf(lambda x:' '.join(x.split()[0:-1]),StringType())\n",
        "genLastName=udf(lambda x:x.split()[-1],StringType())\n",
        "genAdd=udf(lambda :getRandomAddress(),StringType())\n",
        "genLat=udf(lambda :getRandomLatitude(),DoubleType())\n",
        "genLon=udf(lambda :getRandomLongitude(),DoubleType())\n",
        "genCity=udf(lambda x:x.split()[1],StringType())\n",
        "genPostCode=udf(lambda x:x.split()[3],StringType())\n",
        "genCountry=udf(lambda x:x.split()[2],StringType())\n",
        "genDoB=udf(lambda :str(DoB()).split()[0],StringType())\n",
        "genDoC=udf(lambda :str(DoC()).split()[0],StringType())\n",
        "genDoU=udf(lambda x:str(DoU(x)).split()[0],StringType())\n",
        "genDoV=udf(lambda x:str(DoV(x)).split()[0],StringType())\n",
        "genDoL=udf(lambda x:str(DoL(x)).split()[0],StringType())\n",
        "genTF=udf(lambda :''.join(random.choices(['t','f'],k=1)),StringType())\n",
        "genActiv=udf(lambda :''.join(random.choices(['0','1'],k=1)),StringType())\n",
        "genActiTemp=udf(lambda x:getActTemp(x.split('-')[0]),StringType())\n",
        "tint=udf(lambda x:int(x),IntegerType())"
      ],
      "metadata": {
        "id": "483e610Ulzx6"
      },
      "execution_count": null,
      "outputs": []
    },
    {
      "cell_type": "markdown",
      "source": [
        "Generating extra data and adding to the provided data"
      ],
      "metadata": {
        "id": "AJ29_EwzmmBz"
      }
    },
    {
      "cell_type": "code",
      "source": [
        "dataset=dataset.withColumnRenamed(\"Contact\",\"contact\")\n",
        "dataset=dataset.withColumn(\"contact_number\",dataset.contact)\n",
        "dataset=dataset.withColumn(\"user_id\",genUserID())\n",
        "dataset=dataset.withColumn(\"first_name\",genFirstName(dataset.Employee_Name))\n",
        "dataset=dataset.withColumn(\"last_name\",genLastName(dataset.Employee_Name))\n",
        "dataset=dataset.withColumn(\"date_of_birth\",genDoB())\n",
        "dataset=dataset.withColumn(\"lat\",genLat())\n",
        "dataset=dataset.withColumn(\"lon\",genLon())\n",
        "dataset=dataset.withColumn(\"is_otp_verified\",genTF())\n",
        "dataset=dataset.withColumn(\"discount_group_id\",genDGID())\n",
        "dataset=dataset.withColumn(\"address\",genAdd())\n",
        "dataset=dataset.withColumn(\"city\",genCity(dataset.address))\n",
        "dataset=dataset.withColumn(\"postcode\",genPostCode(dataset.address))\n",
        "dataset=dataset.withColumn(\"country\",genCountry(dataset.address))\n",
        "dataset=dataset.withColumn(\"currency\",lit(\"USD\"))\n",
        "dataset=dataset.withColumn(\"tag\",genTag())\n",
        "dataset=dataset.withColumn(\"created_date\",genDoC())\n",
        "dataset=dataset.withColumn(\"updated_date\",genDoU(dataset.created_date))\n",
        "dataset=dataset.withColumn(\"valid_until\",genDoV(dataset.created_date))\n",
        "dataset=dataset.withColumn(\"activated\",genActiTemp(dataset.valid_until))\n",
        "dataset=dataset.withColumn(\"last_used\",genDoL(dataset.updated_date))\n",
        "dataset=dataset.withColumn(\"expire_date\",dataset.valid_until)\n",
        "dataset=dataset.withColumn(\"reference_number\",genRefN())\n",
        "dataset=dataset.withColumn(\"employee_code\",tint(dataset.Emp_ID))\n",
        "dataset=dataset.withColumn(\"unique_user_id\",tint(dataset.SL_No_))\n",
        "dataset=dataset.withColumn(\"id\",tint(dataset.SL_No_))\n",
        "dataset=dataset.withColumn(\"quantity\",genQty())\n",
        "dataset=dataset.withColumn(\"product_type_id\",lit(int(input(\"Enter Product Type ID : \"))))\n",
        "dataset=dataset.withColumn(\"rfid_id\",dataset.RFID_Card_Number)\n",
        "dataset=dataset.withColumn(\"credit_type\",lit(\"NORMAL\"))\n",
        "dataset=dataset.withColumn(\"per_day\",genLimit())\n",
        "dataset=dataset.withColumn(\"per_week\",dataset.per_day*7)\n",
        "dataset=dataset.withColumn(\"per_month\",dataset.per_day*30)\n",
        "dataset=dataset.withColumn(\"inventory_type_id\",lit(int(input(\"Enter Inventory Type ID : \"))))\n",
        "dataset=dataset.withColumn(\"fixed_credit_limit\",lit(50))\n",
        "dataset=dataset.withColumn(\"credit_limit\",lit(30))\n",
        "dataset=dataset.withColumn(\"due_amount\",genDue())\n",
        "dataset=dataset.withColumn(\"agent_name_id\",lit(int(input(\"Enter Agent Name ID : \"))))\n",
        "dataset.show()\n",
        "dataset.printSchema()"
      ],
      "metadata": {
        "id": "VTVcDPUbpDB-"
      },
      "execution_count": null,
      "outputs": []
    },
    {
      "cell_type": "markdown",
      "source": [
        "Creating Schema based on the table definitions"
      ],
      "metadata": {
        "id": "JgqN8E5cmKX7"
      }
    },
    {
      "cell_type": "code",
      "source": [
        "schema_users_personalinfo=StructType([\n",
        "    StructField(\"user_id\",StringType(),True),\n",
        "    StructField(\"first_name\",StringType(),True),\n",
        "    StructField(\"last_name\",StringType(),True),\n",
        "    StructField(\"date_of_birth\",StringType(),True),\n",
        "    StructField(\"contact_number\",StringType(),True),\n",
        "    StructField(\"address\",StringType(),True),\n",
        "    StructField(\"lat\",DoubleType(),True),\n",
        "    StructField(\"lon\",DoubleType(),True),\n",
        "    StructField(\"created_date\",StringType(),True),\n",
        "    StructField(\"updated_date\",StringType(),True),\n",
        "    StructField(\"is_otp_verified\",StringType(),True),\n",
        "    StructField(\"discount_group_id\",IntegerType(),True),\n",
        "])"
      ],
      "metadata": {
        "id": "4OwGBg-lOVqS"
      },
      "execution_count": null,
      "outputs": []
    },
    {
      "cell_type": "code",
      "source": [
        "schema_users_billinginfo=StructType([\n",
        "    StructField(\"user_id\",StringType(),True),\n",
        "    StructField(\"address\",StringType(),True),\n",
        "    StructField(\"city\",StringType(),True),\n",
        "    StructField(\"postcode\",IntegerType(),True),\n",
        "    StructField(\"country\",StringType(),True),\n",
        "    StructField(\"contact\",StringType(),True),\n",
        "    StructField(\"currency\",StringType(),True),\n",
        "    StructField(\"created_date\",StringType(),True),\n",
        "    StructField(\"updated_date\",StringType(),True),\n",
        "])"
      ],
      "metadata": {
        "id": "xN8TCyrJsx7W"
      },
      "execution_count": null,
      "outputs": []
    },
    {
      "cell_type": "code",
      "source": [
        "schema_users_rfidinfo=StructType([\n",
        "    StructField(\"user_id\",StringType(),True),\n",
        "    StructField(\"tag\",StringType(),True),\n",
        "    StructField(\"activated\",StringType(),True),\n",
        "    StructField(\"created_date\",StringType(),True),\n",
        "    StructField(\"updated_date\",StringType(),True),\n",
        "    StructField(\"valid_until\",StringType(),True),\n",
        "    StructField(\"last_used\",StringType(),True),\n",
        "    StructField(\"reference_number\",StringType(),True),\n",
        "    StructField(\"employee_code\",IntegerType(),True),\n",
        "    StructField(\"unique_user_id\",IntegerType(),True),\n",
        "])"
      ],
      "metadata": {
        "id": "kKUqnmqntWhE"
      },
      "execution_count": null,
      "outputs": []
    },
    {
      "cell_type": "code",
      "source": [
        "schema_users_rfiditem=StructType([\n",
        "    StructField(\"id\",IntegerType(),True),\n",
        "    StructField(\"quantity\",IntegerType(),True),\n",
        "    StructField(\"created_date\",StringType(),True),\n",
        "    StructField(\"updated_date\",StringType(),True),\n",
        "    StructField(\"product_type_id\",IntegerType(),True),\n",
        "    StructField(\"rfid_id\",StringType(),True),\n",
        "    StructField(\"credit_type\",StringType(),True),\n",
        "    StructField(\"expire_date\",StringType(),True),\n",
        "])"
      ],
      "metadata": {
        "id": "8R_08Afau81d"
      },
      "execution_count": null,
      "outputs": []
    },
    {
      "cell_type": "code",
      "source": [
        "schema_users_productlimit=StructType([\n",
        "    StructField(\"id\",IntegerType(),True),\n",
        "    StructField(\"per_day\",IntegerType(),True),\n",
        "    StructField(\"per_week\",IntegerType(),True),\n",
        "    StructField(\"per_month\",IntegerType(),True),\n",
        "    StructField(\"created_date\",StringType(),True),\n",
        "    StructField(\"updated_date\",StringType(),True),\n",
        "    StructField(\"inventory_type_id\",IntegerType(),True),\n",
        "    StructField(\"user_id\",StringType(),True),\n",
        "])"
      ],
      "metadata": {
        "id": "v4a3cBQvv9xM"
      },
      "execution_count": null,
      "outputs": []
    },
    {
      "cell_type": "code",
      "source": [
        "schema_users_postpaidrfid=StructType([\n",
        "    StructField(\"id\",IntegerType(),True),\n",
        "    StructField(\"fixed_credit_limit\",IntegerType(),True),\n",
        "    StructField(\"credit_limit\",IntegerType(),True),\n",
        "    StructField(\"due_amount\",DoubleType(),True),\n",
        "    StructField(\"created_date\",StringType(),True),\n",
        "    StructField(\"updated_date\",StringType(),True),\n",
        "    StructField(\"agent_name_id\",IntegerType(),True),\n",
        "    StructField(\"rfid_id\",StringType(),True),\n",
        "])"
      ],
      "metadata": {
        "id": "oLgmyPDiv9oM"
      },
      "execution_count": null,
      "outputs": []
    },
    {
      "cell_type": "code",
      "source": [
        "schema_users_checkout_limit=StructType([\n",
        "    StructField(\"user_id\",StringType(),True),\n",
        "    StructField(\"per_day\",IntegerType(),True),\n",
        "    StructField(\"per_week\",IntegerType(),True),\n",
        "    StructField(\"per_month\",IntegerType(),True),\n",
        "    StructField(\"created_date\",StringType(),True),\n",
        "    StructField(\"updated_date\",StringType(),True),\n",
        "])"
      ],
      "metadata": {
        "id": "M2AjSavPxL0U"
      },
      "execution_count": null,
      "outputs": []
    },
    {
      "cell_type": "markdown",
      "source": [
        "Functions to create, save and show tables"
      ],
      "metadata": {
        "id": "DTkkDRf4pOu0"
      }
    },
    {
      "cell_type": "code",
      "source": [
        "def saveCSV_createTable(cur_schema,name):\n",
        "    table_select=[]\n",
        "    table_drop=[]\n",
        "    for i in cur_schema.names:\n",
        "        table_select.append(i)\n",
        "    for i in dataset.schema.names:\n",
        "        if i not in table_select:\n",
        "            table_drop.append(i)\n",
        "    dataset.drop(*[i for i in table_drop]).select(*[i for i in table_select]).toPandas().to_csv(root_path+name+\".csv\",header=True,index=False)\n",
        "    table=spark.read.format(\"csv\").option(\"header\",True).schema(cur_schema).load(root_path+name+\".csv\")\n",
        "    return table\n",
        "\n",
        "def showTable(cur,name):\n",
        "    print(name)\n",
        "    cur.show()\n",
        "    cur.printSchema()\n"
      ],
      "metadata": {
        "id": "Dv_AFFd-ITcK"
      },
      "execution_count": null,
      "outputs": []
    },
    {
      "cell_type": "markdown",
      "source": [
        "Creating and saving tables based on the given table definitions using created schema"
      ],
      "metadata": {
        "id": "tKhZ7dgKpXuD"
      }
    },
    {
      "cell_type": "code",
      "source": [
        "users_personalinfo=saveCSV_createTable(schema_users_personalinfo,\"users_personalinfo\")\n",
        "users_billinginfo=saveCSV_createTable(schema_users_billinginfo,\"users_billinginfo\")\n",
        "users_rfidinfo=saveCSV_createTable(schema_users_rfidinfo,\"users_rfidinfo\")\n",
        "users_rfiditem=saveCSV_createTable(schema_users_rfiditem,\"users_rfiditem\")\n",
        "users_productlimit=saveCSV_createTable(schema_users_productlimit,\"users_productlimit\")\n",
        "users_postpaidrfid=saveCSV_createTable(schema_users_postpaidrfid,\"users_postpaidrfid\")\n",
        "users_checkout_limit=saveCSV_createTable(schema_users_checkout_limit,\"users_checkout_limit\")"
      ],
      "metadata": {
        "id": "4PCSAPiNkjVe"
      },
      "execution_count": null,
      "outputs": []
    },
    {
      "cell_type": "markdown",
      "source": [
        "The created tables"
      ],
      "metadata": {
        "id": "XJrCdD2KrW6s"
      }
    },
    {
      "cell_type": "code",
      "source": [
        "showTable(users_personalinfo,\"users_personalinfo\")\n",
        "showTable(users_billinginfo,\"users_billinginfo\")\n",
        "showTable(users_rfidinfo,\"users_rfidinfo\")\n",
        "showTable(users_rfiditem,\"users_rfiditem\")\n",
        "showTable(users_productlimit,\"users_productlimit\")\n",
        "showTable(users_postpaidrfid,\"users_postpaidrfid\")\n",
        "showTable(users_checkout_limit,\"users_checkout_limit\")"
      ],
      "metadata": {
        "id": "a5wz6SmxrVXM"
      },
      "execution_count": null,
      "outputs": []
    },
    {
      "cell_type": "markdown",
      "source": [
        "Modules used"
      ],
      "metadata": {
        "id": "EMLs3Bq9THZu"
      }
    },
    {
      "cell_type": "code",
      "source": [
        "import types\n",
        "def imports():\n",
        "    for name, val in globals().items():\n",
        "        if isinstance(val, types.ModuleType):\n",
        "            yield val.__name__\n",
        "list(imports())"
      ],
      "metadata": {
        "id": "uttaKdp0TG2B"
      },
      "execution_count": null,
      "outputs": []
    }
  ]
}